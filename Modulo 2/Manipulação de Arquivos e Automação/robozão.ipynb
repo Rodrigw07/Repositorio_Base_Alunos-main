{
 "cells": [
  {
   "cell_type": "code",
   "execution_count": 1,
   "id": "4a39a7b8",
   "metadata": {},
   "outputs": [],
   "source": [
    "import pyautogui as aut"
   ]
  },
  {
   "cell_type": "code",
   "execution_count": 15,
   "id": "3849ea16",
   "metadata": {},
   "outputs": [],
   "source": [
    "# estou importado o pyautogui e apelidando ele de aut\n",
    "\n",
    "# pressiono a tecla de atalho win +r\n",
    "aut.hotkey(\"win\", \"r\")\n",
    "# escrever notepad\n",
    "aut.write(\"chrome\", interval=0.3)\n",
    "# espera 1 segundo\n",
    "aut.sleep(1)\n",
    "# aperta o enter\n",
    "aut.press(\"enter\")\n",
    "aut.sleep(1)\n",
    "aut.hotkey(\"Ctrl\", \"v\")\n",
    "aut.press(\"enter\")\n",
    "# aut.sleep(1)\n",
    "# aut.moveTo(283,251)\n",
    "# aut.click()\n",
    "# aut.sleep(1)\n",
    "# aut.write(\"professor e bonito\", interval =0.2)"
   ]
  },
  {
   "cell_type": "code",
   "execution_count": 41,
   "id": "b057fe1a",
   "metadata": {},
   "outputs": [],
   "source": [
    "aut.mouseInfo()\n",
    "aut.moveTo(1066,523)\n",
    "# https://www.youtube.com/watch?v=S9bCLPwzSC0"
   ]
  },
  {
   "cell_type": "code",
   "execution_count": null,
   "id": "ac55effb",
   "metadata": {},
   "outputs": [],
   "source": [
    "aut.press(\"Win\")\n",
    "aut.sleep(1)\n",
    "aut.write(\"calculadora\", interval= 0.2)\n",
    "aut.sleep(1)\n",
    "aut.press(\"enter\")\n",
    "aut.moveTo(112,379)\n",
    "aut.sleep(0.5)\n",
    "aut.click()\n",
    "aut.sleep(0.5)\n",
    "aut.moveTo(349,486)\n",
    "aut.sleep(0.5)\n",
    "aut.click()\n",
    "aut.sleep(0.5)\n",
    "aut.moveTo(194,385)\n",
    "aut.sleep(0.5)\n",
    "aut.click()\n",
    "aut.sleep(0.5)\n",
    "aut.moveTo(355,529)\n",
    "aut.sleep(0.5)\n",
    "aut.click()  \n"
   ]
  },
  {
   "cell_type": "code",
   "execution_count": 42,
   "id": "a187fe3e",
   "metadata": {},
   "outputs": [],
   "source": [
    "aut.press(\"win\")\n",
    "aut.sleep(0.5)\n",
    "aut.write('paint', interval=0.2)\n",
    "aut.sleep(0.5)\n",
    "aut.press('enter')\n",
    "aut.sleep(3)\n",
    "aut.moveTo(714,202)\n",
    "aut.sleep(0.6)\n",
    "aut.click()\n",
    "aut.sleep(1)\n",
    "aut.moveTo(942, 594)\n",
    "aut.sleep(1)\n",
    "\n",
    "#quadrado\n",
    "aut.mouseDown()\n",
    "aut.dragTo(594, 794, duration=0.5)\n",
    "\n",
    "#triangulo\n",
    "aut.moveTo(783,195)\n",
    "aut.click()\n",
    "aut.sleep(1)\n",
    "aut.moveTo(942,594)\n",
    "aut.sleep(1)\n",
    "\n",
    "aut.mouseDown()\n",
    "aut.dragTo(594, 394, duration=0.5)"
   ]
  },
  {
   "cell_type": "markdown",
   "id": "12008f1e",
   "metadata": {},
   "source": []
  }
 ],
 "metadata": {
  "kernelspec": {
   "display_name": "Python 3",
   "language": "python",
   "name": "python3"
  },
  "language_info": {
   "codemirror_mode": {
    "name": "ipython",
    "version": 3
   },
   "file_extension": ".py",
   "mimetype": "text/x-python",
   "name": "python",
   "nbconvert_exporter": "python",
   "pygments_lexer": "ipython3",
   "version": "3.13.2"
  }
 },
 "nbformat": 4,
 "nbformat_minor": 5
}
